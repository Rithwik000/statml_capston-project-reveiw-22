{
  "nbformat": 4,
  "nbformat_minor": 0,
  "metadata": {
    "colab": {
      "provenance": []
    },
    "kernelspec": {
      "name": "python3",
      "display_name": "Python 3"
    },
    "language_info": {
      "name": "python"
    }
  },
  "cells": [
    {
      "cell_type": "code",
      "execution_count": 1,
      "metadata": {
        "colab": {
          "base_uri": "https://localhost:8080/"
        },
        "id": "my_TWicWGwHZ",
        "outputId": "526330ed-de3a-4d95-acde-bc789f4f287f"
      },
      "outputs": [
        {
          "output_type": "stream",
          "name": "stdout",
          "text": [
            "      hair  feathers   eggs   milk  airborne  aquatic  predator  toothed  \\\n",
            "0     True     False  False   True     False    False      True     True   \n",
            "1     True     False  False   True     False    False     False     True   \n",
            "2    False     False   True  False     False     True      True     True   \n",
            "3     True     False  False   True     False    False      True     True   \n",
            "4     True     False  False   True     False    False      True     True   \n",
            "..     ...       ...    ...    ...       ...      ...       ...      ...   \n",
            "96    True     False  False   True     False    False     False     True   \n",
            "97    True     False   True  False      True    False     False    False   \n",
            "98    True     False  False   True     False    False      True     True   \n",
            "99   False     False   True  False     False    False     False    False   \n",
            "100  False      True   True  False      True    False     False    False   \n",
            "\n",
            "     backbone  breathes  venomous   fins  legs   tail  domestic  catsize  \\\n",
            "0        True      True     False  False     4  False     False     True   \n",
            "1        True      True     False  False     4   True     False     True   \n",
            "2        True     False     False   True     0   True     False    False   \n",
            "3        True      True     False  False     4  False     False     True   \n",
            "4        True      True     False  False     4   True     False     True   \n",
            "..        ...       ...       ...    ...   ...    ...       ...      ...   \n",
            "96       True      True     False  False     2   True     False     True   \n",
            "97      False      True      True  False     6  False     False    False   \n",
            "98       True      True     False  False     4   True     False     True   \n",
            "99      False      True     False  False     0  False     False    False   \n",
            "100      True      True     False  False     2   True     False    False   \n",
            "\n",
            "              type  \n",
            "0           mammal  \n",
            "1           mammal  \n",
            "2             fish  \n",
            "3           mammal  \n",
            "4           mammal  \n",
            "..             ...  \n",
            "96          mammal  \n",
            "97          insect  \n",
            "98          mammal  \n",
            "99   mollusc.et.al  \n",
            "100           bird  \n",
            "\n",
            "[101 rows x 17 columns]\n",
            "      hair  feathers   eggs   milk  airborne  aquatic  predator  toothed  \\\n",
            "0    False     False  False  False     False    False     False    False   \n",
            "1    False     False  False  False     False    False     False    False   \n",
            "2    False     False  False  False     False    False     False    False   \n",
            "3    False     False  False  False     False    False     False    False   \n",
            "4    False     False  False  False     False    False     False    False   \n",
            "..     ...       ...    ...    ...       ...      ...       ...      ...   \n",
            "96   False     False  False  False     False    False     False    False   \n",
            "97   False     False  False  False     False    False     False    False   \n",
            "98   False     False  False  False     False    False     False    False   \n",
            "99   False     False  False  False     False    False     False    False   \n",
            "100  False     False  False  False     False    False     False    False   \n",
            "\n",
            "     backbone  breathes  venomous   fins   legs   tail  domestic  catsize  \\\n",
            "0       False     False     False  False  False  False     False    False   \n",
            "1       False     False     False  False  False  False     False    False   \n",
            "2       False     False     False  False  False  False     False    False   \n",
            "3       False     False     False  False  False  False     False    False   \n",
            "4       False     False     False  False  False  False     False    False   \n",
            "..        ...       ...       ...    ...    ...    ...       ...      ...   \n",
            "96      False     False     False  False  False  False     False    False   \n",
            "97      False     False     False  False  False  False     False    False   \n",
            "98      False     False     False  False  False  False     False    False   \n",
            "99      False     False     False  False  False  False     False    False   \n",
            "100     False     False     False  False  False  False     False    False   \n",
            "\n",
            "      type  \n",
            "0    False  \n",
            "1    False  \n",
            "2    False  \n",
            "3    False  \n",
            "4    False  \n",
            "..     ...  \n",
            "96   False  \n",
            "97   False  \n",
            "98   False  \n",
            "99   False  \n",
            "100  False  \n",
            "\n",
            "[101 rows x 17 columns]\n"
          ]
        }
      ],
      "source": [
        "import pandas as pd\n",
        "a=pd.read_csv('/content/Zoo.csv')\n",
        "print(a)\n",
        "print(a.isnull())\n",
        "a=a.fillna(0)"
      ]
    },
    {
      "cell_type": "code",
      "source": [
        "import pandas as pd\n",
        "c={'True':1,'False':0}\n",
        "a=a.replace(c)\n",
        "print(a)"
      ],
      "metadata": {
        "colab": {
          "base_uri": "https://localhost:8080/"
        },
        "id": "D-rbGR17HTjO",
        "outputId": "8e16b095-ae35-4cfa-c851-92113c129b05"
      },
      "execution_count": 2,
      "outputs": [
        {
          "output_type": "stream",
          "name": "stdout",
          "text": [
            "      hair  feathers   eggs   milk  airborne  aquatic  predator  toothed  \\\n",
            "0     True     False  False   True     False    False      True     True   \n",
            "1     True     False  False   True     False    False     False     True   \n",
            "2    False     False   True  False     False     True      True     True   \n",
            "3     True     False  False   True     False    False      True     True   \n",
            "4     True     False  False   True     False    False      True     True   \n",
            "..     ...       ...    ...    ...       ...      ...       ...      ...   \n",
            "96    True     False  False   True     False    False     False     True   \n",
            "97    True     False   True  False      True    False     False    False   \n",
            "98    True     False  False   True     False    False      True     True   \n",
            "99   False     False   True  False     False    False     False    False   \n",
            "100  False      True   True  False      True    False     False    False   \n",
            "\n",
            "     backbone  breathes  venomous   fins  legs   tail  domestic  catsize  \\\n",
            "0        True      True     False  False     4  False     False     True   \n",
            "1        True      True     False  False     4   True     False     True   \n",
            "2        True     False     False   True     0   True     False    False   \n",
            "3        True      True     False  False     4  False     False     True   \n",
            "4        True      True     False  False     4   True     False     True   \n",
            "..        ...       ...       ...    ...   ...    ...       ...      ...   \n",
            "96       True      True     False  False     2   True     False     True   \n",
            "97      False      True      True  False     6  False     False    False   \n",
            "98       True      True     False  False     4   True     False     True   \n",
            "99      False      True     False  False     0  False     False    False   \n",
            "100      True      True     False  False     2   True     False    False   \n",
            "\n",
            "              type  \n",
            "0           mammal  \n",
            "1           mammal  \n",
            "2             fish  \n",
            "3           mammal  \n",
            "4           mammal  \n",
            "..             ...  \n",
            "96          mammal  \n",
            "97          insect  \n",
            "98          mammal  \n",
            "99   mollusc.et.al  \n",
            "100           bird  \n",
            "\n",
            "[101 rows x 17 columns]\n"
          ]
        }
      ]
    },
    {
      "cell_type": "code",
      "source": [
        "y=a[\"type\"]\n",
        "print(y)"
      ],
      "metadata": {
        "colab": {
          "base_uri": "https://localhost:8080/"
        },
        "id": "s9jYmRXsHhjV",
        "outputId": "d2f916cb-f33a-4776-986b-6ef2c8d00cf9"
      },
      "execution_count": 3,
      "outputs": [
        {
          "output_type": "stream",
          "name": "stdout",
          "text": [
            "0             mammal\n",
            "1             mammal\n",
            "2               fish\n",
            "3             mammal\n",
            "4             mammal\n",
            "           ...      \n",
            "96            mammal\n",
            "97            insect\n",
            "98            mammal\n",
            "99     mollusc.et.al\n",
            "100             bird\n",
            "Name: type, Length: 101, dtype: object\n"
          ]
        }
      ]
    },
    {
      "cell_type": "code",
      "source": [
        "x=a.drop(\"type\", axis=1)\n",
        "print(x)"
      ],
      "metadata": {
        "colab": {
          "base_uri": "https://localhost:8080/"
        },
        "id": "8AuakB5YHkiE",
        "outputId": "1616d3fa-8833-4c06-f4f8-bfdf4fc56092"
      },
      "execution_count": 4,
      "outputs": [
        {
          "output_type": "stream",
          "name": "stdout",
          "text": [
            "      hair  feathers   eggs   milk  airborne  aquatic  predator  toothed  \\\n",
            "0     True     False  False   True     False    False      True     True   \n",
            "1     True     False  False   True     False    False     False     True   \n",
            "2    False     False   True  False     False     True      True     True   \n",
            "3     True     False  False   True     False    False      True     True   \n",
            "4     True     False  False   True     False    False      True     True   \n",
            "..     ...       ...    ...    ...       ...      ...       ...      ...   \n",
            "96    True     False  False   True     False    False     False     True   \n",
            "97    True     False   True  False      True    False     False    False   \n",
            "98    True     False  False   True     False    False      True     True   \n",
            "99   False     False   True  False     False    False     False    False   \n",
            "100  False      True   True  False      True    False     False    False   \n",
            "\n",
            "     backbone  breathes  venomous   fins  legs   tail  domestic  catsize  \n",
            "0        True      True     False  False     4  False     False     True  \n",
            "1        True      True     False  False     4   True     False     True  \n",
            "2        True     False     False   True     0   True     False    False  \n",
            "3        True      True     False  False     4  False     False     True  \n",
            "4        True      True     False  False     4   True     False     True  \n",
            "..        ...       ...       ...    ...   ...    ...       ...      ...  \n",
            "96       True      True     False  False     2   True     False     True  \n",
            "97      False      True      True  False     6  False     False    False  \n",
            "98       True      True     False  False     4   True     False     True  \n",
            "99      False      True     False  False     0  False     False    False  \n",
            "100      True      True     False  False     2   True     False    False  \n",
            "\n",
            "[101 rows x 16 columns]\n"
          ]
        }
      ]
    },
    {
      "cell_type": "markdown",
      "source": [
        "LOGISTRIC REGRESSION"
      ],
      "metadata": {
        "id": "xzQcJ4HcHtRF"
      }
    },
    {
      "cell_type": "code",
      "source": [
        "#logistric regression\n",
        "from sklearn.metrics import accuracy_score, confusion_matrix\n",
        "import seaborn as sns\n",
        "from sklearn.model_selection import train_test_split\n",
        "from sklearn.linear_model import LogisticRegression\n",
        "x_train, x_test, y_train, y_test = train_test_split(x,y,test_size=0.29,random_state=42)\n",
        "model = LogisticRegression()\n",
        "model.fit(x_train, y_train)\n",
        "y_pred = model.predict(x_test)\n",
        "Accuracy = accuracy_score(y_test, y_pred)\n",
        "print(\"Accuracy:\", Accuracy)"
      ],
      "metadata": {
        "colab": {
          "base_uri": "https://localhost:8080/"
        },
        "id": "9lMjhqZfHnou",
        "outputId": "16d48097-7f27-4e8a-906a-e7029640c8d3"
      },
      "execution_count": 5,
      "outputs": [
        {
          "output_type": "stream",
          "name": "stdout",
          "text": [
            "Accuracy: 0.9333333333333333\n"
          ]
        }
      ]
    },
    {
      "cell_type": "markdown",
      "source": [
        "SUPPORT VECTOR MECHINE(SVM)\n"
      ],
      "metadata": {
        "id": "gNiRiuFLH4kk"
      }
    },
    {
      "cell_type": "code",
      "source": [
        "#SVM\n",
        "from sklearn import datasets\n",
        "from sklearn.model_selection import train_test_split\n",
        "from sklearn.svm import SVC\n",
        "from sklearn.svm import SVR\n",
        "from sklearn.metrics import accuracy_score, mean_squared_error\n",
        "X_train, X_test, y_train, y_test = train_test_split(x,y, test_size=0.2, random_state=42)\n",
        "model = SVC(kernel='linear')\n",
        "model.fit(X_train, y_train)\n",
        "y_pred = model.predict(X_test)\n",
        "acc = accuracy_score(y_test, y_pred)\n",
        "print(f'Accuracy: {acc}')"
      ],
      "metadata": {
        "colab": {
          "base_uri": "https://localhost:8080/"
        },
        "id": "zcjdLAvoH74Z",
        "outputId": "96b87a79-19c3-4c4b-e55b-fde421cf2eec"
      },
      "execution_count": 7,
      "outputs": [
        {
          "output_type": "stream",
          "name": "stdout",
          "text": [
            "Accuracy: 0.9523809523809523\n"
          ]
        }
      ]
    },
    {
      "cell_type": "markdown",
      "source": [
        "PERCEPTRON LEARNING\n"
      ],
      "metadata": {
        "id": "OS98NALIH_7Z"
      }
    },
    {
      "cell_type": "code",
      "source": [
        "import numpy as np\n",
        "from sklearn.linear_model import Perceptron\n",
        "from sklearn.model_selection import train_test_split\n",
        "from sklearn.metrics import accuracy_score\n",
        "X_train, X_test, y_train, y_test = train_test_split(x, y, test_size=0.2, random_state=42)\n",
        "clf = Perceptron()\n",
        "clf.fit(X_train, y_train)\n",
        "y_pred = clf.predict(X_test)\n",
        "accuracy = accuracy_score(y_test, y_pred)\n",
        "print(\"Accuracy:\", accuracy)\n"
      ],
      "metadata": {
        "colab": {
          "base_uri": "https://localhost:8080/"
        },
        "id": "4SedQyhsJxuq",
        "outputId": "1e2d6f8e-5728-4c5e-efcc-1ca5b7b16f16"
      },
      "execution_count": 19,
      "outputs": [
        {
          "output_type": "stream",
          "name": "stdout",
          "text": [
            "Accuracy: 0.9523809523809523\n"
          ]
        }
      ]
    },
    {
      "cell_type": "code",
      "source": [
        "from sklearn.metrics import confusion_matrix\n",
        "\n",
        "cm = confusion_matrix(y_test, y_pred)\n",
        "print (\"Confusion Matrix : \\n\", cm)\n",
        "\n",
        "from sklearn.metrics import confusion_matrix, accuracy_score, precision_score, recall_score, f1_score\n",
        "\n",
        "accuracy = accuracy_score(y_test, y_pred)\n",
        "print(\"Accuracy:\", accuracy)\n",
        "\n",
        "# Calculate and print precision\n",
        "precision = precision_score(y_test, y_pred, average='weighted',zero_division=0)\n",
        "print(\"Precision:\", precision)\n",
        "\n",
        "# Calculate and print recall\n",
        "recall = recall_score(y_test, y_pred, average='weighted')\n",
        "print(\"Recall:\", recall)\n",
        "\n",
        "# Calculate and print F1-score\n",
        "f1 = f1_score(y_test, y_pred, average='weighted')\n",
        "print(\"F1-score:\", f1)"
      ],
      "metadata": {
        "colab": {
          "base_uri": "https://localhost:8080/"
        },
        "id": "Ptnk9WbaPLn0",
        "outputId": "181da12a-bc11-49a3-d3cb-3ee02ad5ab74"
      },
      "execution_count": 24,
      "outputs": [
        {
          "output_type": "stream",
          "name": "stdout",
          "text": [
            "Confusion Matrix : \n",
            " [[ 0  0  0  0  2  0  0]\n",
            " [ 0  3  0  0  0  0  0]\n",
            " [ 0  0  2  0  0  0  0]\n",
            " [ 0  0  0  3  0  2  0]\n",
            " [ 0  0  1  0 14  0  0]\n",
            " [ 0  0  1  1  0  1  0]\n",
            " [ 0  0  1  0  0  0  0]]\n",
            "Accuracy: 0.7419354838709677\n",
            "Precision: 0.6991935483870968\n",
            "Recall: 0.7419354838709677\n",
            "F1-score: 0.7104702442891829\n"
          ]
        }
      ]
    },
    {
      "cell_type": "markdown",
      "source": [
        "KNN\n"
      ],
      "metadata": {
        "id": "I0TBWLQXJmTW"
      }
    },
    {
      "cell_type": "code",
      "source": [
        "#kNN\n",
        "from sklearn.neighbors import KNeighborsClassifier\n",
        "from sklearn.datasets import load_iris\n",
        "from sklearn.model_selection import train_test_split\n",
        "data = load_iris()\n",
        "X_train, X_test, y_train, y_test = train_test_split(x, y, test_size=0.3, random_state=42)\n",
        "k=10\n",
        "knn = KNeighborsClassifier(n_neighbors=10)\n",
        "knn.fit(X_train, y_train)\n",
        "y_pred = knn.predict(X_test)\n",
        "from sklearn.metrics import accuracy_score\n",
        "accuracy = accuracy_score(y_test, y_pred)\n",
        "print(f'Accuracy: {accuracy}')"
      ],
      "metadata": {
        "colab": {
          "base_uri": "https://localhost:8080/"
        },
        "id": "WZsVm_5wJhUD",
        "outputId": "a5d84c02-8114-42ff-ab0c-1b3f0fec484b"
      },
      "execution_count": 20,
      "outputs": [
        {
          "output_type": "stream",
          "name": "stdout",
          "text": [
            "Accuracy: 0.7419354838709677\n"
          ]
        }
      ]
    },
    {
      "cell_type": "markdown",
      "source": [
        "\n",
        "# ** WITH PCA**"
      ],
      "metadata": {
        "id": "w9dU3fehNcq4"
      }
    },
    {
      "cell_type": "code",
      "source": [
        "#PCA\n",
        "from sklearn.decomposition import PCA\n",
        "pca=PCA(4)\n",
        "x1=pca.fit_transform(x)\n",
        "print(x1)"
      ],
      "metadata": {
        "colab": {
          "base_uri": "https://localhost:8080/"
        },
        "id": "blYa3ecMN10V",
        "outputId": "b2ac76ff-4311-4701-97da-a04b254f52a6"
      },
      "execution_count": 33,
      "outputs": [
        {
          "output_type": "stream",
          "name": "stdout",
          "text": [
            "[[ 1.35102851 -1.05853312  0.31410259 -0.04744328]\n",
            " [ 1.30663411 -1.20834446 -0.28940524  0.11802382]\n",
            " [-3.13165517  0.25220045  0.92941871  0.08172374]\n",
            " [ 1.35102851 -1.05853312  0.31410259 -0.04744328]\n",
            " [ 1.27729583 -1.22574951  0.12623911 -0.44224081]\n",
            " [ 1.30663411 -1.20834446 -0.28940524  0.11802382]\n",
            " [ 1.32106857 -1.25764259 -0.42160278  0.2966596 ]\n",
            " [-3.08788243  0.22030736  0.38157681  0.82062416]\n",
            " [-3.13165517  0.25220045  0.92941871  0.08172374]\n",
            " [ 1.37362871 -0.77104359 -0.26454275  1.08655033]\n",
            " [ 1.27729583 -1.22574951  0.12623911 -0.44224081]\n",
            " [-0.85560368  0.96028666 -1.44048974  0.03712295]\n",
            " [-3.13165517  0.25220045  0.92941871  0.08172374]\n",
            " [-2.73070318  0.94005387  0.35718272  0.75552254]\n",
            " [ 1.04663381  1.39432518  1.20986317  0.18374685]\n",
            " [ 2.98225622  1.55844133  1.41892651 -0.01557046]\n",
            " [-0.89937642  0.99217974 -0.89264785 -0.70177747]\n",
            " [ 1.30663411 -1.20834446 -0.28940524  0.11802382]\n",
            " [-3.11048263 -0.06718217  0.96022216 -0.31336946]\n",
            " [-2.9060239  -1.07047047  0.48795665 -0.34485249]\n",
            " [-0.85560368  0.96028666 -1.44048974  0.03712295]\n",
            " [-0.96394596  1.13562381 -0.87373844 -0.31465389]\n",
            " [ 1.30663411 -1.20834446 -0.28940524  0.11802382]\n",
            " [-0.8488656   0.69020218 -1.27748875 -0.53660603]\n",
            " [ 3.18526565  1.33773307  0.18698882  0.60195908]\n",
            " [ 1.00669275  0.66157251  0.90552092 -0.07916741]\n",
            " [ 1.00893156  0.7117018   0.97627056 -0.00560252]\n",
            " [-0.64144201 -0.8398805  -0.91300595  0.62696144]\n",
            " [ 1.30663411 -1.20834446 -0.28940524  0.11802382]\n",
            " [-0.57015944 -1.2719474  -0.02715829  0.33050981]\n",
            " [ 3.19398449  1.55093057 -0.1967451   0.51648618]\n",
            " [ 1.32106857 -1.25764259 -0.42160278  0.2966596 ]\n",
            " [-0.55525562 -1.20524423 -0.3106051   0.71213867]\n",
            " [-0.99328424  1.11821876 -0.45809409 -0.87491853]\n",
            " [-3.10231689  0.26960549  0.51377436  0.64198838]\n",
            " [ 1.29989603 -0.93825997 -0.45240624  0.6917528 ]\n",
            " [ 1.28546156 -0.88896185 -0.32020869  0.51311702]\n",
            " [-0.89937642  0.99217974 -0.89264785 -0.70177747]\n",
            " [-3.13165517  0.25220045  0.92941871  0.08172374]\n",
            " [ 3.31521776  1.16829173 -0.35533509  0.93797   ]\n",
            " [ 3.29854449  1.16746058 -0.29388719  0.68576934]\n",
            " [-0.90809526  0.77898225 -0.50891394 -0.61630457]\n",
            " [ 3.16464621  1.53352552  0.21889926 -0.04377846]\n",
            " [-0.87003814  1.00958479 -1.3082922  -0.14151283]\n",
            " [ 1.27729583 -1.22574951  0.12623911 -0.44224081]\n",
            " [ 1.27729583 -1.22574951  0.12623911 -0.44224081]\n",
            " [ 2.98225622  1.55844133  1.41892651 -0.01557046]\n",
            " [ 1.27729583 -1.22574951  0.12623911 -0.44224081]\n",
            " [ 1.18338801 -1.09971049  0.56079287 -0.61538187]\n",
            " [ 1.25612328 -0.90636689  0.09543566 -0.04714762]\n",
            " [ 1.27729583 -1.22574951  0.12623911 -0.44224081]\n",
            " [ 3.29854449  1.16746058 -0.29388719  0.68576934]\n",
            " [ 0.93296007  0.49435613  0.71765743 -0.47396494]\n",
            " [ 4.93905117  1.40317486  1.65879331 -0.60998098]\n",
            " [ 1.25612328 -0.90636689  0.09543566 -0.04714762]\n",
            " [ 1.30663411 -1.20834446 -0.28940524  0.11802382]\n",
            " [-0.85758443  0.47700468 -0.89375484 -0.45113313]\n",
            " [-0.85560368  0.96028666 -1.44048974  0.03712295]\n",
            " [-0.98083053  0.58563866 -0.04355673 -1.18453883]\n",
            " [-0.87003814  1.00958479 -1.3082922  -0.14151283]\n",
            " [-3.11048263 -0.06718217  0.96022216 -0.31336946]\n",
            " [-3.13165517  0.25220045  0.92941871  0.08172374]\n",
            " [-2.84213812  0.0902141  -0.06427337  0.17137563]\n",
            " [ 1.16178915 -0.26022708  0.37648732 -0.80310185]\n",
            " [ 1.27729583 -1.22574951  0.12623911 -0.44224081]\n",
            " [ 1.32106857 -1.25764259 -0.42160278  0.2966596 ]\n",
            " [-2.9060239  -1.07047047  0.48795665 -0.34485249]\n",
            " [ 1.27729583 -1.22574951  0.12623911 -0.44224081]\n",
            " [ 1.29173029 -1.27504763 -0.00595843 -0.26360504]\n",
            " [ 1.27729583 -1.22574951  0.12623911 -0.44224081]\n",
            " [ 1.32106857 -1.25764259 -0.42160278  0.2966596 ]\n",
            " [-0.88692271  0.45959964 -0.47811048 -1.01139777]\n",
            " [ 5.08350711  0.92703251  0.659131   -0.42677346]\n",
            " [-3.10231689  0.26960549  0.51377436  0.64198838]\n",
            " [-2.72773122 -1.28672408  0.57867804  0.2192282 ]\n",
            " [-0.86584149 -1.28982431  0.5998779  -0.37488665]\n",
            " [-2.95235807 -0.11199716  0.7165683   0.16619279]\n",
            " [-2.82237219  1.11622217  0.86248612  0.65594637]\n",
            " [-0.99328424  1.11821876 -0.45809409 -0.87491853]\n",
            " [-0.99328424  1.11821876 -0.45809409 -0.87491853]\n",
            " [-2.84437693  0.04008482 -0.13502301  0.09781074]\n",
            " [-2.62160156  0.84538463 -0.44020121  1.19991103]\n",
            " [-3.10231689  0.26960549  0.51377436  0.64198838]\n",
            " [-0.87003814  1.00958479 -1.3082922  -0.14151283]\n",
            " [-0.65016084 -1.05307799 -0.52927204  0.71243434]\n",
            " [ 2.01444502  1.47638326  1.31439484  0.08408819]\n",
            " [-3.10824382 -0.01705289  1.0309718  -0.23980457]\n",
            " [-0.94277342  0.8162412  -0.84293499 -0.70974708]\n",
            " [ 3.18526565  1.33773307  0.18698882  0.60195908]\n",
            " [ 1.03603103  0.67897756  0.48987657  0.48109723]\n",
            " [ 1.11923105  0.4654984  -0.32149444 -0.27129037]\n",
            " [ 1.02686789  0.36831712  0.28310368 -0.30082389]\n",
            " [-3.11048263 -0.06718217  0.96022216 -0.31336946]\n",
            " [-0.64144201 -0.8398805  -0.91300595  0.62696144]\n",
            " [ 1.28546156 -0.88896185 -0.32020869  0.51311702]\n",
            " [-0.87820388  0.67279713 -0.8618444  -1.09687067]\n",
            " [-0.6289883  -1.37246061 -0.49846859  0.31734114]\n",
            " [ 3.3007833   1.21758986 -0.22313755  0.75933422]\n",
            " [ 1.27729583 -1.22574951  0.12623911 -0.44224081]\n",
            " [-2.62160156  0.84538463 -0.44020121  1.19991103]\n",
            " [-0.87003814  1.00958479 -1.3082922  -0.14151283]]\n"
          ]
        }
      ]
    },
    {
      "cell_type": "markdown",
      "source": [
        "LOGISTRIC REGRESSION  WITH PCA\n"
      ],
      "metadata": {
        "id": "fUeTq5i_P3kV"
      }
    },
    {
      "cell_type": "code",
      "source": [
        "#logistric regression\n",
        "from sklearn.metrics import accuracy_score, confusion_matrix\n",
        "import seaborn as sns\n",
        "from sklearn.model_selection import train_test_split\n",
        "from sklearn.linear_model import LogisticRegression\n",
        "x_train, x_test, y_train, y_test = train_test_split(x1,y,test_size=0.29,random_state=42)\n",
        "model = LogisticRegression()\n",
        "model.fit(x_train, y_train)\n",
        "y_pred = model.predict(x_test)\n",
        "Accuracy = accuracy_score(y_test, y_pred)\n",
        "print(\"Accuracy:\", Accuracy)"
      ],
      "metadata": {
        "colab": {
          "base_uri": "https://localhost:8080/"
        },
        "outputId": "62c5f3e9-fb59-4f30-d0c8-25b8c9cc7851",
        "id": "gFXAWChoP7j9"
      },
      "execution_count": 34,
      "outputs": [
        {
          "output_type": "stream",
          "name": "stdout",
          "text": [
            "Accuracy: 0.8333333333333334\n"
          ]
        }
      ]
    },
    {
      "cell_type": "markdown",
      "source": [
        "SUPPORT VECTOR MECHINE(SVM)  WITH PCA\n",
        "\n"
      ],
      "metadata": {
        "id": "7H4SBZrXQO16"
      }
    },
    {
      "cell_type": "code",
      "source": [
        "#SVM\n",
        "from sklearn import datasets\n",
        "from sklearn.model_selection import train_test_split\n",
        "from sklearn.svm import SVC\n",
        "from sklearn.svm import SVR\n",
        "from sklearn.metrics import accuracy_score, mean_squared_error\n",
        "X_train, X_test, y_train, y_test = train_test_split(x1,y, test_size=0.2, random_state=42)\n",
        "model = SVC(kernel='linear')\n",
        "model.fit(X_train, y_train)\n",
        "y_pred = model.predict(X_test)\n",
        "acc = accuracy_score(y_test, y_pred)\n",
        "print(f'Accuracy: {acc}')"
      ],
      "metadata": {
        "colab": {
          "base_uri": "https://localhost:8080/"
        },
        "outputId": "5674ca97-c11a-479f-b810-1bb01c5c5a3a",
        "id": "leX1EfPmQeEQ"
      },
      "execution_count": 29,
      "outputs": [
        {
          "output_type": "stream",
          "name": "stdout",
          "text": [
            "Accuracy: 0.9047619047619048\n"
          ]
        }
      ]
    },
    {
      "cell_type": "markdown",
      "source": [
        "PERCEPTRON LEARNING  WITH PCA\n",
        "\n",
        "\n",
        "\n"
      ],
      "metadata": {
        "id": "ucyKnbJiQnGW"
      }
    },
    {
      "cell_type": "code",
      "source": [
        "import numpy as np\n",
        "from sklearn.linear_model import Perceptron\n",
        "from sklearn.model_selection import train_test_split\n",
        "from sklearn.metrics import accuracy_score\n",
        "X_train, X_test, y_train, y_test = train_test_split(x1, y, test_size=0.2, random_state=42)\n",
        "clf = Perceptron()\n",
        "clf.fit(X_train, y_train)\n",
        "y_pred = clf.predict(X_test)\n",
        "accuracy = accuracy_score(y_test, y_pred)\n",
        "print(\"Accuracy:\", accuracy)\n"
      ],
      "metadata": {
        "colab": {
          "base_uri": "https://localhost:8080/"
        },
        "outputId": "f6d6900e-a91f-4921-cc1f-53b319d3a0d7",
        "id": "Nzts5nIFQzp3"
      },
      "execution_count": 30,
      "outputs": [
        {
          "output_type": "stream",
          "name": "stdout",
          "text": [
            "Accuracy: 0.7142857142857143\n"
          ]
        }
      ]
    },
    {
      "cell_type": "markdown",
      "source": [
        "KNN WITH PCA"
      ],
      "metadata": {
        "id": "YGMBxw4GQ2T3"
      }
    },
    {
      "cell_type": "code",
      "source": [
        "#kNN\n",
        "from sklearn.neighbors import KNeighborsClassifier\n",
        "from sklearn.datasets import load_iris\n",
        "from sklearn.model_selection import train_test_split\n",
        "data = load_iris()\n",
        "X_train, X_test, y_train, y_test = train_test_split(x1, y, test_size=0.3, random_state=42)\n",
        "k=10\n",
        "knn = KNeighborsClassifier(n_neighbors=10)\n",
        "knn.fit(X_train, y_train)\n",
        "y_pred = knn.predict(X_test)\n",
        "from sklearn.metrics import accuracy_score\n",
        "accuracy = accuracy_score(y_test, y_pred)\n",
        "print(f'Accuracy: {accuracy}')"
      ],
      "metadata": {
        "colab": {
          "base_uri": "https://localhost:8080/"
        },
        "outputId": "34258675-783b-48ad-94b6-d93714eda9b7",
        "id": "l0xH1BtoQ5vA"
      },
      "execution_count": 32,
      "outputs": [
        {
          "output_type": "stream",
          "name": "stdout",
          "text": [
            "Accuracy: 0.6774193548387096\n"
          ]
        }
      ]
    }
  ]
}